{
 "cells": [
  {
   "cell_type": "code",
   "execution_count": 1,
   "metadata": {},
   "outputs": [],
   "source": [
    "#| default_exp const_vals"
   ]
  },
  {
   "cell_type": "markdown",
   "metadata": {},
   "source": [
    "# Constants"
   ]
  },
  {
   "cell_type": "code",
   "execution_count": 1,
   "metadata": {},
   "outputs": [],
   "source": [
    "#|hide\n",
    "from nbdev.showdoc import *"
   ]
  },
  {
   "cell_type": "markdown",
   "metadata": {},
   "source": [
    "Utilities constants"
   ]
  },
  {
   "cell_type": "code",
   "execution_count": 3,
   "metadata": {},
   "outputs": [],
   "source": [
    "#|export\n",
    "# task 1 constants\n",
    "GET_FILE_STR = \"*.tif\"\n",
    "\n",
    "SPLIT_TILES_NAMES_STR2 = '_'\n",
    "SPLIT_TILES_NAMES_STR1 = \"\\\\\"\n",
    "\n",
    "REGION_STR ='region'\n",
    "PATH_STR = 'path'\n",
    "JOIN_COL_NAME = 'name_for_join'\n",
    "\n",
    "STR_BAND_NAME = 'band'\n",
    "STR_MEAN = 'mean'\n",
    "STR_STD = 'std'\n",
    "\n",
    "DF_ID_COL_NAME = 'id'\n",
    "SPLIT_COL_NAME ='split'"
   ]
  },
  {
   "cell_type": "code",
   "execution_count": 1,
   "metadata": {},
   "outputs": [],
   "source": [
    "#|export\n",
    "# task 2 constants\n",
    "GREEN_BAND =3\n",
    "NIR_BAND = 8\n",
    "\n",
    "# names for water percentage columns\n",
    "\n",
    "IMG_PATH_WATER_STR = 'img_path'\n",
    "WATER_PERC_STR = 'percentage_water'\n",
    "\n",
    "# Region name to for tile filtering\n",
    "REGION_STR_2 = 'Bolivia'\n",
    "\n",
    "# water value pixel\n",
    "WATER_VALUE = 1\n",
    "\n",
    "WATER_DF_TILE_ID_STR = 'tile_id'\n",
    "WATER_DF_PATH_STR = 'path'\n",
    "WATER_DF_WATER_PERC_STR = 'water_perc'\n",
    "WATER_DF_WATER_PERC_LABEL_STR = 'water_label_perc'\n",
    "RANDOM_STATE= 42\n",
    "TEST_SIZE = 25"
   ]
  },
  {
   "cell_type": "code",
   "execution_count": null,
   "metadata": {},
   "outputs": [],
   "source": []
  }
 ],
 "metadata": {
  "kernelspec": {
   "display_name": ".venv",
   "language": "python",
   "name": "python3"
  },
  "language_info": {
   "codemirror_mode": {
    "name": "ipython",
    "version": 3
   },
   "file_extension": ".py",
   "mimetype": "text/x-python",
   "name": "python",
   "nbconvert_exporter": "python",
   "pygments_lexer": "ipython3",
   "version": "3.11.0"
  }
 },
 "nbformat": 4,
 "nbformat_minor": 2
}
