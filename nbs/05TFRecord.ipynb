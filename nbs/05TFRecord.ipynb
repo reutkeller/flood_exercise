{
 "cells": [
  {
   "cell_type": "code",
   "execution_count": 19,
   "metadata": {},
   "outputs": [],
   "source": [
    "#| default_exp trf_record"
   ]
  },
  {
   "cell_type": "markdown",
   "metadata": {},
   "source": [
    "# TRFrecord Files Convertor"
   ]
  },
  {
   "cell_type": "markdown",
   "metadata": {},
   "source": [
    "Step 3 - Create a TFRecord file\n",
    "In this step you need to convert the original dataset (with the splits) into a TFRecord format, which is documented here:\n",
    "https://www.tensorflow.org/tutorials/load_data/tfrecord \n",
    "\n",
    "Please create a python script that reads the original files and creates a single tf.data.Example record for each input image.\n",
    "\n",
    "The image bytes should be stored as a tf.train.BytesList feature, when the contents is an array of [H, W, C=13] uint16 bytes (use numpy’s tobytes) method, or as a tf.train.Int64List.\n",
    "\n",
    "The labels should be stored in a format similar to the image, as an array of [H,W,C]\n",
    "Optional: Add a colab to visualize the contents of the TFRecord file.\n"
   ]
  },
  {
   "cell_type": "code",
   "execution_count": 20,
   "metadata": {},
   "outputs": [],
   "source": [
    "#|hide\n",
    "from nbdev.showdoc import *"
   ]
  },
  {
   "cell_type": "code",
   "execution_count": 21,
   "metadata": {},
   "outputs": [],
   "source": [
    "#|export\n",
    "import tensorflow as tf\n",
    "import rasterio\n",
    "import numpy as np\n",
    "import matplotlib.pyplot as plt\n",
    "import pandas as pd\n",
    "\n",
    "\n",
    "from flood_exercise import utils_func as util\n",
    "from flood_exercise import const_vals as CONST"
   ]
  },
  {
   "cell_type": "code",
   "execution_count": 22,
   "metadata": {},
   "outputs": [],
   "source": [
    "#|export\n",
    "\n",
    "\n",
    "class ConvertTRF():\n",
    "\n",
    "\n",
    "  def __init__(self,\n",
    "    path_to_tif : str , #path to GeoTIFF files\n",
    "    path_save_trf : str , # path to the folder that will store the result trf Records files\n",
    "    ):\n",
    "\n",
    "    self.list_of_tif = util.load_list_paths(path = path_to_tif , filter_file = False)\n",
    "\n",
    "\n",
    "\n",
    "  def _convert_img_to_feature_(self, \n",
    "                               path_to_img : str , #path to specific image\n",
    "                               ):\n",
    "    with rasterio.open(path_to_img) as src:\n",
    "\n",
    "      bands = src.descriptions\n",
    "      arr = src.read()\n",
    "\n",
    "      # convert to dataframe in order to convert later to feature #TODO - MAKE IT OWKRS WITH NUMPY ARRAY\n",
    "      df = pd.DataFrame(arr.reshape([arr.shape[0],-1]).T)\n",
    "      df.columns = bands\n",
    "      \n",
    "      \n",
    "\n",
    "    \n",
    "\n",
    "\n",
    "\n",
    "\n",
    "\n"
   ]
  },
  {
   "cell_type": "code",
   "execution_count": 24,
   "metadata": {},
   "outputs": [],
   "source": [
    "instance =  ConvertTRF(path_to_tif= r\"D:\\git\\flood_exercise\\S2\" ,\n",
    "                       path_save_trf= r\"D:\\git\\flood_exercise\\RESULTS\\trfRecords\")\n",
    "\n",
    "# instance.list_of_tif"
   ]
  },
  {
   "cell_type": "code",
   "execution_count": 4,
   "metadata": {},
   "outputs": [],
   "source": [
    "# playing\n",
    "src = rasterio.open(r'D:\\git\\flood_exercise\\S2\\Bolivia_23014_S2Hand.tif')\n",
    "bands = src.descriptions\n",
    "arr = src.read()\n",
    "\n",
    "df = pd.DataFrame(arr.reshape([arr.shape[0],-1]).T)\n",
    "df.columns = bands"
   ]
  },
  {
   "cell_type": "code",
   "execution_count": 18,
   "metadata": {},
   "outputs": [],
   "source": [
    "B1_list = tf.train.FloatList(value=df['B1'].tolist())\n",
    "B1_vals = tf.train.Feature(float_list=B1_list)\n",
    "\n",
    "\n",
    "B2_list = tf.train.FloatList(value=df['B2'].tolist())\n",
    "B2_vals = tf.train.Feature(float_list=B2_list)\n",
    "\n",
    "bands_dict = {\n",
    "  'B1': B1_vals ,\n",
    "  'B2': B2_vals \n",
    "}\n",
    "\n",
    "\n",
    "bands_data = tf.train.Features(feature=bands_dict)\n",
    "\n",
    "\n",
    "\n",
    "example = tf.train.Example(features=bands_data)\n",
    "\n",
    "\n",
    "with tf.io.TFRecordWriter(r'D:\\git\\flood_exercise\\RESULTS\\trfRecords\\test.tfrecord') as tfrecord_writer:\n",
    "  tfrecord_writer.write(example.SerializeToString())\n",
    "# # \"example\" is of type tf.train.Example.\n",
    "# with tf.python_io.TFRecordWriter(r'D:\\git\\flood_exercise\\RESULTS\\trfRecords\\test.tfrecord') as writer:\n",
    "#   writer.write(example.SerializeToString())"
   ]
  },
  {
   "cell_type": "code",
   "execution_count": 25,
   "metadata": {},
   "outputs": [
    {
     "data": {
      "text/plain": [
       "tensorflow.core.example.feature_pb2.Features"
      ]
     },
     "execution_count": 25,
     "metadata": {},
     "output_type": "execute_result"
    }
   ],
   "source": [
    "type(bands_data)"
   ]
  },
  {
   "cell_type": "code",
   "execution_count": null,
   "metadata": {},
   "outputs": [],
   "source": []
  }
 ],
 "metadata": {
  "kernelspec": {
   "display_name": ".venv",
   "language": "python",
   "name": "python3"
  },
  "language_info": {
   "codemirror_mode": {
    "name": "ipython",
    "version": 3
   },
   "file_extension": ".py",
   "mimetype": "text/x-python",
   "name": "python",
   "nbconvert_exporter": "python",
   "pygments_lexer": "ipython3",
   "version": "3.11.0"
  }
 },
 "nbformat": 4,
 "nbformat_minor": 2
}
