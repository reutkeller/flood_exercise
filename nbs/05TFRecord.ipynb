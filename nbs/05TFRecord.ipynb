{
 "cells": [
  {
   "cell_type": "code",
   "execution_count": null,
   "metadata": {},
   "outputs": [],
   "source": [
    "#| default_exp trf_record"
   ]
  },
  {
   "cell_type": "markdown",
   "metadata": {},
   "source": [
    "# TRFrecord Files Convertor"
   ]
  },
  {
   "cell_type": "markdown",
   "metadata": {},
   "source": [
    "Step 3 - Create a TFRecord file\n",
    "In this step you need to convert the original dataset (with the splits) into a TFRecord format, which is documented here:\n",
    "https://www.tensorflow.org/tutorials/load_data/tfrecord \n",
    "\n",
    "Please create a python script that reads the original files and creates a single tf.data.Example record for each input image.\n",
    "\n",
    "The image bytes should be stored as a tf.train.BytesList feature, when the contents is an array of [H, W, C=13] uint16 bytes (use numpy’s tobytes) method, or as a tf.train.Int64List.\n",
    "\n",
    "The labels should be stored in a format similar to the image, as an array of [H,W,C]\n",
    "Optional: Add a colab to visualize the contents of the TFRecord file.\n"
   ]
  },
  {
   "cell_type": "code",
   "execution_count": null,
   "metadata": {},
   "outputs": [],
   "source": [
    "#|hide\n",
    "from nbdev.showdoc import *"
   ]
  },
  {
   "cell_type": "code",
   "execution_count": null,
   "metadata": {},
   "outputs": [],
   "source": [
    "#|export\n",
    "import tensorflow as tf\n",
    "import rasterio\n",
    "import numpy as np\n",
    "import matplotlib.pyplot as plt\n",
    "import pandas as pd\n",
    "\n",
    "\n",
    "from flood_exercise import utils_func as util\n",
    "from flood_exercise import const_vals as CONST"
   ]
  },
  {
   "cell_type": "code",
   "execution_count": null,
   "metadata": {},
   "outputs": [],
   "source": [
    "# playing\n",
    "src = rasterio.open(r'D:\\git\\flood_exercise\\S2\\Bolivia_23014_S2Hand.tif')\n",
    "bands = src.descriptions\n",
    "arr = src.read()\n",
    "\n",
    "df = pd.DataFrame(arr.reshape([arr.shape[0],-1]).T)\n",
    "df.columns = bands"
   ]
  },
  {
   "cell_type": "code",
   "execution_count": null,
   "metadata": {},
   "outputs": [],
   "source": [
    "B1_list = tf.train.FloatList(value=df['B1'].tolist())\n",
    "B1_vals = tf.train.Feature(float_list=B1_list)\n",
    "# B1_names = tf.train.Feature(bytes_list=B1_list)"
   ]
  },
  {
   "cell_type": "code",
   "execution_count": null,
   "metadata": {},
   "outputs": [],
   "source": [
    "B1_vals"
   ]
  },
  {
   "cell_type": "code",
   "execution_count": null,
   "metadata": {},
   "outputs": [],
   "source": [
    "\n",
    "# movie_name_list = tf.train.BytesList(value=['The Shawshank Redemption', 'Fight Club'])\n",
    "movie_rating_list = tf.train.FloatList(value=df['B1'].tolist())"
   ]
  },
  {
   "cell_type": "code",
   "execution_count": null,
   "metadata": {},
   "outputs": [],
   "source": [
    "movie_ratings = tf.train.Feature(float_list=movie_rating_list)"
   ]
  },
  {
   "cell_type": "code",
   "execution_count": null,
   "metadata": {},
   "outputs": [],
   "source": [
    "movie_ratings"
   ]
  },
  {
   "cell_type": "code",
   "execution_count": null,
   "metadata": {},
   "outputs": [],
   "source": []
  },
  {
   "cell_type": "code",
   "execution_count": null,
   "metadata": {},
   "outputs": [],
   "source": [
    "import os\n",
    "import tensorflow as tf\n",
    "import numpy as np\n",
    "import rasterio\n",
    "\n",
    "def _bytes_feature(value):\n",
    "    return tf.train.Feature(bytes_list=tf.train.BytesList(value=[value]))\n",
    "\n",
    "def _int64_feature(value):\n",
    "    return tf.train.Feature(int64_list=tf.train.Int64List(value=value.flatten()))\n",
    "\n",
    "def read_geotiff(file_path):\n",
    "    with rasterio.open(file_path) as src:\n",
    "        return src.read()\n",
    "\n",
    "def convert_to_tfrecord(image_dir, output_file):\n",
    "    writer = tf.io.TFRecordWriter(output_file)\n",
    "    image_files = os.listdir(image_dir)\n",
    "\n",
    "\n",
    "    for img_file, label_file in image_files:\n",
    "        img_path = os.path.join(image_dir, img_file)\n",
    "\n",
    "\n",
    "        image = read_geotiff(img_path)  \n",
    "\n",
    "        image_bytes = image.tobytes()\n",
    "\n",
    "\n",
    "        example = tf.train.Example(features=tf.train.Features(feature={\n",
    "            'image': _bytes_feature(image_bytes),\n",
    "        }))\n",
    "\n",
    "        writer.write(example.SerializeToString())\n",
    "\n",
    "    writer.close()\n",
    "\n",
    "# Example usage:\n",
    "image_dir = r'D:\\git\\flood_exercise\\S2\\Bolivia_23014_S2Hand.tif'\n",
    "output_file = 'dataset.tfrecord'\n",
    "\n",
    "convert_to_tfrecord(image_dir,output_file)\n"
   ]
  },
  {
   "cell_type": "code",
   "execution_count": null,
   "metadata": {},
   "outputs": [],
   "source": [
    " image_files = os.listdir(\"D:\\git\\flood_exercise\\S2\")"
   ]
  },
  {
   "cell_type": "code",
   "execution_count": null,
   "metadata": {},
   "outputs": [],
   "source": []
  },
  {
   "cell_type": "code",
   "execution_count": null,
   "metadata": {},
   "outputs": [],
   "source": [
    "paths = util.load_list_paths(path = r'D:\\git\\flood_exercise\\S2', filter_file =True)\n",
    "\n",
    "src = rasterio.open(paths[15])\n",
    "arr = src.read(1)"
   ]
  },
  {
   "cell_type": "code",
   "execution_count": null,
   "metadata": {},
   "outputs": [],
   "source": [
    "def _bytes_feature(value):\n",
    "    return tf.train.Feature(bytes_list=tf.train.BytesList(value=[value]))\n",
    "\n",
    "def _int64_feature(value):\n",
    "    return tf.train.Feature(int64_list=tf.train.Int64List(value=value.flatten()))\n"
   ]
  },
  {
   "cell_type": "code",
   "execution_count": null,
   "metadata": {},
   "outputs": [],
   "source": [
    "arr_bytes = arr.tobytes()\n"
   ]
  },
  {
   "cell_type": "code",
   "execution_count": null,
   "metadata": {},
   "outputs": [],
   "source": [
    "example = tf.train.Example(features=tf.train.Features(feature={\n",
    "            'image': _bytes_feature(arr_bytes),\n",
    "        }))\n"
   ]
  },
  {
   "cell_type": "code",
   "execution_count": null,
   "metadata": {},
   "outputs": [],
   "source": [
    "example"
   ]
  },
  {
   "cell_type": "code",
   "execution_count": null,
   "metadata": {},
   "outputs": [],
   "source": [
    "dataset = tf.data.TFRecordDataset(\"D:\\git\\flood_exercise\\S2\\Bolivia_23014_S2Hand.tif\")\n",
    "\n",
    "featuresDict = {\n",
    "  'B1' : tf.io.FixedLenFeature(shape=[1], dtype=tf.float32),\n",
    "  'B2': tf.io.FixedLenFeature(shape=[1], dtype=tf.float32),\n",
    "  'B3': tf.io.FixedLenFeature(shape=[1], dtype=tf.float32),\n",
    "  'B4': tf.io.FixedLenFeature(shape=[1], dtype=tf.float32),\n",
    "  'B5': tf.io.FixedLenFeature(shape=[1], dtype=tf.float32),\n",
    "  'B6': tf.io.FixedLenFeature(shape=[1], dtype=tf.float32),\n",
    "  'B7': tf.io.FixedLenFeature(shape=[1], dtype=tf.float32),\n",
    "  'B8': tf.io.FixedLenFeature(shape=[1], dtype=tf.float32),\n",
    "  'B8A': tf.io.FixedLenFeature(shape=[1], dtype=tf.float32),\n",
    "  'B9': tf.io.FixedLenFeature(shape=[1], dtype=tf.float32),\n",
    "  'B10': tf.io.FixedLenFeature(shape=[1], dtype=tf.float32),\n",
    "  'B11': tf.io.FixedLenFeature(shape=[1], dtype=tf.float32),\n",
    "  'B12': tf.io.FixedLenFeature(shape=[1], dtype=tf.float32),\n",
    "}\n",
    "\n",
    "\n",
    "parsedDataset = dataset.map(lambda example: tf.io.parse_single_example(example, featuresDict))\n"
   ]
  },
  {
   "cell_type": "code",
   "execution_count": null,
   "metadata": {},
   "outputs": [],
   "source": [
    "parsedDataset"
   ]
  },
  {
   "cell_type": "code",
   "execution_count": null,
   "metadata": {},
   "outputs": [],
   "source": []
  }
 ],
 "metadata": {
  "kernelspec": {
   "display_name": ".venv",
   "language": "python",
   "name": "python3"
  },
  "language_info": {
   "codemirror_mode": {
    "name": "ipython",
    "version": 3
   },
   "file_extension": ".py",
   "mimetype": "text/x-python",
   "name": "python",
   "nbconvert_exporter": "python",
   "pygments_lexer": "ipython3",
   "version": "3.11.0"
  }
 },
 "nbformat": 4,
 "nbformat_minor": 2
}
