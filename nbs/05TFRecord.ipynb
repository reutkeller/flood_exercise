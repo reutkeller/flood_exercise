{
 "cells": [
  {
   "cell_type": "code",
   "execution_count": 1,
   "metadata": {},
   "outputs": [],
   "source": [
    "#| default_exp trf_record"
   ]
  },
  {
   "cell_type": "markdown",
   "metadata": {},
   "source": [
    "# TRFrecord Files Convertor"
   ]
  },
  {
   "cell_type": "markdown",
   "metadata": {},
   "source": [
    "Step 3 - Create a TFRecord file\n",
    "In this step you need to convert the original dataset (with the splits) into a TFRecord format, which is documented here:\n",
    "https://www.tensorflow.org/tutorials/load_data/tfrecord \n",
    "\n",
    "Please create a python script that reads the original files and creates a single tf.data.Example record for each input image.\n",
    "\n",
    "The image bytes should be stored as a tf.train.BytesList feature, when the contents is an array of [H, W, C=13] uint16 bytes (use numpy’s tobytes) method, or as a tf.train.Int64List.\n",
    "\n",
    "The labels should be stored in a format similar to the image, as an array of [H,W,C]\n",
    "Optional: Add a colab to visualize the contents of the TFRecord file.\n"
   ]
  },
  {
   "cell_type": "code",
   "execution_count": 2,
   "metadata": {},
   "outputs": [],
   "source": [
    "#|hide\n",
    "from nbdev.showdoc import *"
   ]
  },
  {
   "cell_type": "code",
   "execution_count": 3,
   "metadata": {},
   "outputs": [
    {
     "name": "stdout",
     "output_type": "stream",
     "text": [
      "WARNING:tensorflow:From d:\\git\\flood_exercise\\.venv\\Lib\\site-packages\\keras\\src\\losses.py:2976: The name tf.losses.sparse_softmax_cross_entropy is deprecated. Please use tf.compat.v1.losses.sparse_softmax_cross_entropy instead.\n",
      "\n"
     ]
    }
   ],
   "source": [
    "#|export\n",
    "import tensorflow as tf\n",
    "import rasterio\n",
    "import numpy as np\n",
    "import matplotlib.pyplot as plt\n",
    "import pandas as pd\n",
    "\n",
    "\n",
    "from flood_exercise import utils_func as util\n",
    "from flood_exercise import const_vals as CONST"
   ]
  },
  {
   "cell_type": "code",
   "execution_count": 11,
   "metadata": {},
   "outputs": [],
   "source": [
    "#|export\n",
    "\n",
    "\n",
    "class ConvertTRF():\n",
    "\n",
    "\n",
    "  def __init__(self,\n",
    "    path_to_tif : str , #path to GeoTIFF files\n",
    "    path_save_trf : str , # path to the folder that will store the result trf Records files\n",
    "    ):\n",
    "\n",
    "    self.list_of_tif = util.load_list_paths(path = path_to_tif , filter_file = False)\n",
    "    self.path_save_trf = path_save_trf\n",
    "\n",
    "    for tif in self.list_of_tif:\n",
    "      self._convert_img_to_feature_(path_to_img = tif)\n",
    "    \n",
    "\n",
    "\n",
    "  def _convert_img_to_feature_(self, \n",
    "                               path_to_img : str , #path to specific image\n",
    "                               ):\n",
    "    with rasterio.open(path_to_img) as src:\n",
    "\n",
    "      file_name = path_to_img.split(CONST.SPLIT_TILES_NAMES_STR1)[-1].split(CONST.SPLIT_TILES_NAMES_STR3)[0]\n",
    "\n",
    "      bands = src.descriptions\n",
    "      arr = src.read()\n",
    "\n",
    "      # convert to dataframe in order to convert later to feature #TODO - MAKE IT OWKRS WITH NUMPY ARRAY\n",
    "      df = pd.DataFrame(arr.reshape([arr.shape[0],-1]).T)\n",
    "      df.columns = bands\n",
    "\n",
    "      # self.bands_dict = {key: None for key in bands}\n",
    "      bands_dict = {}\n",
    "      for b in bands:\n",
    "        band_list = tf.train.FloatList(value=df[b].tolist())\n",
    "        band_vals = tf.train.Feature(float_list=band_list)\n",
    "        bands_dict[b] = band_vals\n",
    "\n",
    "      bands_data = tf.train.Features(feature=bands_dict)\n",
    "      \n",
    "      example = tf.train.Example(features=bands_data)\n",
    "      \n",
    "      with tf.io.TFRecordWriter(self.path_save_trf + CONST.SPLIT_TILES_NAMES_STR1+file_name + CONST.TRF_FILE_SUFFIX) as tfrecord_writer:\n",
    "        tfrecord_writer.write(example.SerializeToString())\n",
    "\n",
    "        print(f'saved tfrecord at :  {self.path_save_trf + CONST.SPLIT_TILES_NAMES_STR1+file_name + CONST.TRF_FILE_SUFFIX}')\n"
   ]
  },
  {
   "cell_type": "code",
   "execution_count": 12,
   "metadata": {},
   "outputs": [
    {
     "ename": "AttributeError",
     "evalue": "'ConvertTRF' object has no attribute 'bands_dict'",
     "output_type": "error",
     "traceback": [
      "\u001b[1;31m---------------------------------------------------------------------------\u001b[0m",
      "\u001b[1;31mAttributeError\u001b[0m                            Traceback (most recent call last)",
      "Cell \u001b[1;32mIn[12], line 1\u001b[0m\n\u001b[1;32m----> 1\u001b[0m instance \u001b[38;5;241m=\u001b[39m  \u001b[43mConvertTRF\u001b[49m\u001b[43m(\u001b[49m\u001b[43mpath_to_tif\u001b[49m\u001b[38;5;241;43m=\u001b[39;49m\u001b[43m \u001b[49m\u001b[38;5;124;43mr\u001b[39;49m\u001b[38;5;124;43m\"\u001b[39;49m\u001b[38;5;124;43mD:\u001b[39;49m\u001b[38;5;124;43m\\\u001b[39;49m\u001b[38;5;124;43mgit\u001b[39;49m\u001b[38;5;124;43m\\\u001b[39;49m\u001b[38;5;124;43mflood_exercise\u001b[39;49m\u001b[38;5;124;43m\\\u001b[39;49m\u001b[38;5;124;43mS2\u001b[39;49m\u001b[38;5;124;43m\"\u001b[39;49m\u001b[43m \u001b[49m\u001b[43m,\u001b[49m\n\u001b[0;32m      2\u001b[0m \u001b[43m                       \u001b[49m\u001b[43mpath_save_trf\u001b[49m\u001b[38;5;241;43m=\u001b[39;49m\u001b[43m \u001b[49m\u001b[38;5;124;43mr\u001b[39;49m\u001b[38;5;124;43m\"\u001b[39;49m\u001b[38;5;124;43mD:\u001b[39;49m\u001b[38;5;124;43m\\\u001b[39;49m\u001b[38;5;124;43mgit\u001b[39;49m\u001b[38;5;124;43m\\\u001b[39;49m\u001b[38;5;124;43mflood_exercise\u001b[39;49m\u001b[38;5;124;43m\\\u001b[39;49m\u001b[38;5;124;43mRESULTS\u001b[39;49m\u001b[38;5;124;43m\\\u001b[39;49m\u001b[38;5;124;43mtrfRecords\u001b[39;49m\u001b[38;5;124;43m\"\u001b[39;49m\u001b[43m)\u001b[49m\n",
      "Cell \u001b[1;32mIn[11], line 16\u001b[0m, in \u001b[0;36mConvertTRF.__init__\u001b[1;34m(self, path_to_tif, path_save_trf)\u001b[0m\n\u001b[0;32m     13\u001b[0m \u001b[38;5;28mself\u001b[39m\u001b[38;5;241m.\u001b[39mpath_save_trf \u001b[38;5;241m=\u001b[39m path_save_trf\n\u001b[0;32m     15\u001b[0m \u001b[38;5;28;01mfor\u001b[39;00m tif \u001b[38;5;129;01min\u001b[39;00m \u001b[38;5;28mself\u001b[39m\u001b[38;5;241m.\u001b[39mlist_of_tif:\n\u001b[1;32m---> 16\u001b[0m   \u001b[38;5;28;43mself\u001b[39;49m\u001b[38;5;241;43m.\u001b[39;49m\u001b[43m_convert_img_to_feature_\u001b[49m\u001b[43m(\u001b[49m\u001b[43mpath_to_img\u001b[49m\u001b[43m \u001b[49m\u001b[38;5;241;43m=\u001b[39;49m\u001b[43m \u001b[49m\u001b[43mtif\u001b[49m\u001b[43m)\u001b[49m\n",
      "Cell \u001b[1;32mIn[11], line 39\u001b[0m, in \u001b[0;36mConvertTRF._convert_img_to_feature_\u001b[1;34m(self, path_to_img)\u001b[0m\n\u001b[0;32m     37\u001b[0m   band_list \u001b[38;5;241m=\u001b[39m tf\u001b[38;5;241m.\u001b[39mtrain\u001b[38;5;241m.\u001b[39mFloatList(value\u001b[38;5;241m=\u001b[39mdf[b]\u001b[38;5;241m.\u001b[39mtolist())\n\u001b[0;32m     38\u001b[0m   band_vals \u001b[38;5;241m=\u001b[39m tf\u001b[38;5;241m.\u001b[39mtrain\u001b[38;5;241m.\u001b[39mFeature(float_list\u001b[38;5;241m=\u001b[39mband_list)\n\u001b[1;32m---> 39\u001b[0m   \u001b[38;5;28;43mself\u001b[39;49m\u001b[38;5;241;43m.\u001b[39;49m\u001b[43mbands_dict\u001b[49m[b] \u001b[38;5;241m=\u001b[39m band_vals\n\u001b[0;32m     41\u001b[0m bands_data \u001b[38;5;241m=\u001b[39m tf\u001b[38;5;241m.\u001b[39mtrain\u001b[38;5;241m.\u001b[39mFeatures(feature\u001b[38;5;241m=\u001b[39mbands_dict)\n\u001b[0;32m     43\u001b[0m example \u001b[38;5;241m=\u001b[39m tf\u001b[38;5;241m.\u001b[39mtrain\u001b[38;5;241m.\u001b[39mExample(features\u001b[38;5;241m=\u001b[39mbands_data)\n",
      "\u001b[1;31mAttributeError\u001b[0m: 'ConvertTRF' object has no attribute 'bands_dict'"
     ]
    }
   ],
   "source": [
    "instance =  ConvertTRF(path_to_tif= r\"D:\\git\\flood_exercise\\S2\" ,\n",
    "                       path_save_trf= r\"D:\\git\\flood_exercise\\RESULTS\\trfRecords\")\n",
    "\n",
    "\n"
   ]
  },
  {
   "cell_type": "code",
   "execution_count": null,
   "metadata": {},
   "outputs": [],
   "source": [
    "stringi = \"\\git\\flood_exercise\\S2\\Bolivia_23014_S2Hand.tif\"\n",
    "stringi.split(\"\\\")"
   ]
  },
  {
   "cell_type": "code",
   "execution_count": null,
   "metadata": {},
   "outputs": [],
   "source": [
    "# playing\n",
    "src = rasterio.open(r'D:\\git\\flood_exercise\\S2\\Bolivia_23014_S2Hand.tif')\n",
    "bands = src.descriptions\n",
    "arr = src.read()\n",
    "\n",
    "df = pd.DataFrame(arr.reshape([arr.shape[0],-1]).T)\n",
    "df.columns = bands"
   ]
  },
  {
   "cell_type": "code",
   "execution_count": null,
   "metadata": {},
   "outputs": [],
   "source": [
    "B1_list = tf.train.FloatList(value=df['B1'].tolist())\n",
    "B1_vals = tf.train.Feature(float_list=B1_list)\n",
    "\n",
    "\n",
    "B2_list = tf.train.FloatList(value=df['B2'].tolist())\n",
    "B2_vals = tf.train.Feature(float_list=B2_list)\n",
    "\n",
    "bands_dict = {\n",
    "  'B1': B1_vals ,\n",
    "  'B2': B2_vals \n",
    "}\n",
    "\n",
    "\n",
    "bands_data = tf.train.Features(feature=bands_dict)\n",
    "\n",
    "\n",
    "\n",
    "example = tf.train.Example(features=bands_data)\n",
    "\n",
    "\n",
    "with tf.io.TFRecordWriter(r'D:\\git\\flood_exercise\\RESULTS\\trfRecords\\test.tfrecord') as tfrecord_writer:\n",
    "  tfrecord_writer.write(example.SerializeToString())\n",
    "# # \"example\" is of type tf.train.Example.\n",
    "# with tf.python_io.TFRecordWriter(r'D:\\git\\flood_exercise\\RESULTS\\trfRecords\\test.tfrecord') as writer:\n",
    "#   writer.write(example.SerializeToString())"
   ]
  },
  {
   "cell_type": "code",
   "execution_count": null,
   "metadata": {},
   "outputs": [],
   "source": [
    "type(bands_data)"
   ]
  },
  {
   "cell_type": "code",
   "execution_count": null,
   "metadata": {},
   "outputs": [],
   "source": []
  }
 ],
 "metadata": {
  "kernelspec": {
   "display_name": ".venv",
   "language": "python",
   "name": "python3"
  },
  "language_info": {
   "codemirror_mode": {
    "name": "ipython",
    "version": 3
   },
   "file_extension": ".py",
   "mimetype": "text/x-python",
   "name": "python",
   "nbconvert_exporter": "python",
   "pygments_lexer": "ipython3",
   "version": "3.11.0"
  }
 },
 "nbformat": 4,
 "nbformat_minor": 2
}
