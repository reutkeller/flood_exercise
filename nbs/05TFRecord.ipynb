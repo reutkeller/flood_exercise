{
 "cells": [
  {
   "cell_type": "code",
   "execution_count": 1,
   "metadata": {},
   "outputs": [],
   "source": [
    "#| default_exp trf_record"
   ]
  },
  {
   "cell_type": "markdown",
   "metadata": {},
   "source": [
    "# TRFrecord Files Convertor"
   ]
  },
  {
   "cell_type": "markdown",
   "metadata": {},
   "source": [
    "Step 3 - Create a TFRecord file\n",
    "In this step you need to convert the original dataset (with the splits) into a TFRecord format, which is documented here:\n",
    "https://www.tensorflow.org/tutorials/load_data/tfrecord \n",
    "\n",
    "Please create a python script that reads the original files and creates a single tf.data.Example record for each input image.\n",
    "\n",
    "The image bytes should be stored as a tf.train.BytesList feature, when the contents is an array of [H, W, C=13] uint16 bytes (use numpy’s tobytes) method, or as a tf.train.Int64List.\n",
    "\n",
    "The labels should be stored in a format similar to the image, as an array of [H,W,C]\n",
    "Optional: Add a colab to visualize the contents of the TFRecord file.\n"
   ]
  },
  {
   "cell_type": "code",
   "execution_count": 2,
   "metadata": {},
   "outputs": [],
   "source": [
    "#|hide\n",
    "from nbdev.showdoc import *"
   ]
  },
  {
   "cell_type": "code",
   "execution_count": 3,
   "metadata": {},
   "outputs": [
    {
     "name": "stdout",
     "output_type": "stream",
     "text": [
      "WARNING:tensorflow:From d:\\git\\flood_exercise\\.venv\\Lib\\site-packages\\keras\\src\\losses.py:2976: The name tf.losses.sparse_softmax_cross_entropy is deprecated. Please use tf.compat.v1.losses.sparse_softmax_cross_entropy instead.\n",
      "\n"
     ]
    }
   ],
   "source": [
    "#|export\n",
    "import tensorflow as tf\n",
    "import rasterio\n",
    "import numpy as np\n",
    "import matplotlib.pyplot as plt\n",
    "import pandas as pd\n",
    "\n",
    "\n",
    "from flood_exercise import utils_func as util\n",
    "from flood_exercise import const_vals as CONST"
   ]
  },
  {
   "cell_type": "code",
   "execution_count": 13,
   "metadata": {},
   "outputs": [],
   "source": [
    "#|export\n",
    "\n",
    "\n",
    "class ConvertTRF():\n",
    "\n",
    "\n",
    "  def __init__(self,\n",
    "    path_to_tif : str , #path to GeoTIFF files\n",
    "    path_save_trf : str , # path to the folder that will store the result trf Records files\n",
    "    ):\n",
    "\n",
    "    self.list_of_tif = util.load_list_paths(path = path_to_tif , filter_file = False)\n",
    "    self.path_save_trf = path_save_trf\n",
    "\n",
    "    for tif in self.list_of_tif:\n",
    "      self._convert_img_to_feature_(path_to_img = tif)\n",
    "    \n",
    "\n",
    "\n",
    "  def _convert_img_to_feature_(self, \n",
    "                               path_to_img : str , #path to specific image\n",
    "                               ):\n",
    "    with rasterio.open(path_to_img) as src:\n",
    "\n",
    "      file_name = path_to_img.split(CONST.SPLIT_TILES_NAMES_STR1)[-1].split(CONST.SPLIT_TILES_NAMES_STR3)[0]\n",
    "\n",
    "      bands = src.descriptions\n",
    "      arr = src.read()\n",
    "\n",
    "      # convert to dataframe in order to convert later to feature #TODO - MAKE IT OWKRS WITH NUMPY ARRAY\n",
    "      df = pd.DataFrame(arr.reshape([arr.shape[0],-1]).T)\n",
    "      df.columns = bands\n",
    "\n",
    "      # self.bands_dict = {key: None for key in bands}\n",
    "      bands_dict = {}\n",
    "      for b in bands:\n",
    "        band_list = tf.train.FloatList(value=df[b].tolist())\n",
    "        band_vals = tf.train.Feature(float_list=band_list)\n",
    "        bands_dict[b] = band_vals\n",
    "\n",
    "      bands_data = tf.train.Features(feature=bands_dict)\n",
    "      \n",
    "      example = tf.train.Example(features=bands_data)\n",
    "      \n",
    "      with tf.io.TFRecordWriter(self.path_save_trf + CONST.SPLIT_TILES_NAMES_STR1+file_name + CONST.TRF_FILE_SUFFIX) as tfrecord_writer:\n",
    "        tfrecord_writer.write(example.SerializeToString())\n",
    "\n",
    "        print(f'saved tfrecord at :  {self.path_save_trf + CONST.SPLIT_TILES_NAMES_STR1+file_name + CONST.TRF_FILE_SUFFIX}')\n"
   ]
  },
  {
   "cell_type": "code",
   "execution_count": 14,
   "metadata": {},
   "outputs": [
    {
     "name": "stdout",
     "output_type": "stream",
     "text": [
      "saved tfrecord at :  D:\\git\\flood_exercise\\RESULTS\\trfRecords\\Nigeria_417184_S2Hand.tfrecord\n",
      "saved tfrecord at :  D:\\git\\flood_exercise\\RESULTS\\trfRecords\\Mekong_1396181_S2Hand.tfrecord\n",
      "saved tfrecord at :  D:\\git\\flood_exercise\\RESULTS\\trfRecords\\Mekong_1191208_S2Hand.tfrecord\n",
      "saved tfrecord at :  D:\\git\\flood_exercise\\RESULTS\\trfRecords\\Mekong_1248200_S2Hand.tfrecord\n",
      "saved tfrecord at :  D:\\git\\flood_exercise\\RESULTS\\trfRecords\\India_900498_S2Hand.tfrecord\n",
      "saved tfrecord at :  D:\\git\\flood_exercise\\RESULTS\\trfRecords\\Mekong_1149855_S2Hand.tfrecord\n",
      "saved tfrecord at :  D:\\git\\flood_exercise\\RESULTS\\trfRecords\\India_91379_S2Hand.tfrecord\n",
      "saved tfrecord at :  D:\\git\\flood_exercise\\RESULTS\\trfRecords\\India_943439_S2Hand.tfrecord\n",
      "saved tfrecord at :  D:\\git\\flood_exercise\\RESULTS\\trfRecords\\Nigeria_952958_S2Hand.tfrecord\n",
      "saved tfrecord at :  D:\\git\\flood_exercise\\RESULTS\\trfRecords\\Mekong_293769_S2Hand.tfrecord\n",
      "saved tfrecord at :  D:\\git\\flood_exercise\\RESULTS\\trfRecords\\Nigeria_22088_S2Hand.tfrecord\n",
      "saved tfrecord at :  D:\\git\\flood_exercise\\RESULTS\\trfRecords\\Nigeria_1095404_S2Hand.tfrecord\n",
      "saved tfrecord at :  D:\\git\\flood_exercise\\RESULTS\\trfRecords\\Mekong_342411_S2Hand.tfrecord\n",
      "saved tfrecord at :  D:\\git\\flood_exercise\\RESULTS\\trfRecords\\Nigeria_812045_S2Hand.tfrecord\n",
      "saved tfrecord at :  D:\\git\\flood_exercise\\RESULTS\\trfRecords\\Mekong_922373_S2Hand.tfrecord\n",
      "saved tfrecord at :  D:\\git\\flood_exercise\\RESULTS\\trfRecords\\Mekong_45934_S2Hand.tfrecord\n",
      "saved tfrecord at :  D:\\git\\flood_exercise\\RESULTS\\trfRecords\\Mekong_382276_S2Hand.tfrecord\n",
      "saved tfrecord at :  D:\\git\\flood_exercise\\RESULTS\\trfRecords\\Mekong_846007_S2Hand.tfrecord\n",
      "saved tfrecord at :  D:\\git\\flood_exercise\\RESULTS\\trfRecords\\Mekong_424793_S2Hand.tfrecord\n",
      "saved tfrecord at :  D:\\git\\flood_exercise\\RESULTS\\trfRecords\\Mekong_98310_S2Hand.tfrecord\n",
      "saved tfrecord at :  D:\\git\\flood_exercise\\RESULTS\\trfRecords\\Nigeria_225131_S2Hand.tfrecord\n",
      "saved tfrecord at :  D:\\git\\flood_exercise\\RESULTS\\trfRecords\\Mekong_221789_S2Hand.tfrecord\n",
      "saved tfrecord at :  D:\\git\\flood_exercise\\RESULTS\\trfRecords\\Pakistan_132143_S2Hand.tfrecord\n"
     ]
    }
   ],
   "source": [
    "instance =  ConvertTRF(path_to_tif= r\"D:\\git\\flood_exercise\\S2\" ,\n",
    "                       path_save_trf= r\"D:\\git\\flood_exercise\\RESULTS\\trfRecords\")\n",
    "\n",
    "\n"
   ]
  }
 ],
 "metadata": {
  "kernelspec": {
   "display_name": ".venv",
   "language": "python",
   "name": "python3"
  },
  "language_info": {
   "codemirror_mode": {
    "name": "ipython",
    "version": 3
   },
   "file_extension": ".py",
   "mimetype": "text/x-python",
   "name": "python",
   "nbconvert_exporter": "python",
   "pygments_lexer": "ipython3",
   "version": "3.11.0"
  }
 },
 "nbformat": 4,
 "nbformat_minor": 2
}
