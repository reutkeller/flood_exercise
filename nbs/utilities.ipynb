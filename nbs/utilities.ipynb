{
 "cells": [
  {
   "cell_type": "code",
   "execution_count": 14,
   "metadata": {},
   "outputs": [],
   "source": [
    "#| default_exp utils_func"
   ]
  },
  {
   "cell_type": "markdown",
   "metadata": {},
   "source": [
    "# Utilities Functions"
   ]
  },
  {
   "cell_type": "code",
   "execution_count": 15,
   "metadata": {},
   "outputs": [],
   "source": [
    "#|hide\n",
    "from nbdev.showdoc import *"
   ]
  },
  {
   "cell_type": "code",
   "execution_count": 18,
   "metadata": {},
   "outputs": [],
   "source": [
    "#|hide\n",
    "#|export\n",
    "import rasterio\n",
    "import glob"
   ]
  },
  {
   "cell_type": "code",
   "execution_count": null,
   "metadata": {},
   "outputs": [],
   "source": [
    "#|export\n",
    "\n",
    "def load_tif_paths(\n",
    "    tif_path : str , # path to the folder where all the tifs are located\n",
    "    )-> list :\n",
    "  \n",
    "    \"\"\"\n",
    "    Takes a folder path containing TIFF files and returns a list of paths\n",
    "    that can be read by rasterio.\n",
    "\n",
    "    Parameters:\n",
    "        folder_path (str): The path to the folder containing TIFF files.\n",
    "\n",
    "    Returns:\n",
    "        list: A list of paths that can be read by rasterio.\n",
    "    \"\"\"\n",
    "    path_list = []\n",
    "    for file in glob.glob(\"*.tif\"):\n",
    "        path_list.append(file)\n",
    "\n",
    "    return path_list"
   ]
  }
 ],
 "metadata": {
  "kernelspec": {
   "display_name": ".venv",
   "language": "python",
   "name": "python3"
  },
  "language_info": {
   "codemirror_mode": {
    "name": "ipython",
    "version": 3
   },
   "file_extension": ".py",
   "mimetype": "text/x-python",
   "name": "python",
   "nbconvert_exporter": "python",
   "pygments_lexer": "ipython3",
   "version": "3.12.1"
  }
 },
 "nbformat": 4,
 "nbformat_minor": 2
}
