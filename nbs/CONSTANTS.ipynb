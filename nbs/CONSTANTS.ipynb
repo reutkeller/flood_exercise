{
 "cells": [
  {
   "cell_type": "code",
   "execution_count": 1,
   "metadata": {},
   "outputs": [],
   "source": [
    "#| default_exp const_vals"
   ]
  },
  {
   "cell_type": "markdown",
   "metadata": {},
   "source": [
    "# Constants"
   ]
  },
  {
   "cell_type": "code",
   "execution_count": 1,
   "metadata": {},
   "outputs": [],
   "source": [
    "#|hide\n",
    "from nbdev.showdoc import *"
   ]
  },
  {
   "cell_type": "markdown",
   "metadata": {},
   "source": [
    "Utilities constants"
   ]
  },
  {
   "cell_type": "code",
   "execution_count": 2,
   "metadata": {},
   "outputs": [],
   "source": [
    "#|export\n",
    "\n",
    "GET_FILE_STR = \"*.tif\"\n",
    "\n",
    "SPLIT_TILES_NAMES_STR2 = '_'\n",
    "SPLIT_TILES_NAMES_STR1 = \"\\\\\"\n",
    "\n",
    "REGION_STR ='region'\n",
    "PATH_STR = 'path'\n",
    "JOIN_COL_NAME = 'name_for_join'\n",
    "\n",
    "STR_BAND_NAME = 'band'\n",
    "STR_MEAN = 'mean'\n",
    "STR_STD = 'std'\n",
    "\n",
    "DF_ID_COL_NAME = 'id'\n",
    "SPLIT_COL_NAME ='split'"
   ]
  },
  {
   "cell_type": "code",
   "execution_count": null,
   "metadata": {},
   "outputs": [],
   "source": []
  }
 ],
 "metadata": {
  "kernelspec": {
   "display_name": ".venv",
   "language": "python",
   "name": "python3"
  },
  "language_info": {
   "codemirror_mode": {
    "name": "ipython",
    "version": 3
   },
   "file_extension": ".py",
   "mimetype": "text/x-python",
   "name": "python",
   "nbconvert_exporter": "python",
   "pygments_lexer": "ipython3",
   "version": "3.12.1"
  }
 },
 "nbformat": 4,
 "nbformat_minor": 2
}
