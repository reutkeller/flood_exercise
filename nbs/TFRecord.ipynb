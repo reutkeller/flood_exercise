{
 "cells": [
  {
   "cell_type": "code",
   "execution_count": 1,
   "metadata": {},
   "outputs": [],
   "source": [
    "#| default_exp trf_record"
   ]
  },
  {
   "cell_type": "markdown",
   "metadata": {},
   "source": [
    "# TRFrecord Files Convertor"
   ]
  },
  {
   "cell_type": "code",
   "execution_count": 2,
   "metadata": {},
   "outputs": [],
   "source": [
    "#|hide\n",
    "from nbdev.showdoc import *"
   ]
  },
  {
   "cell_type": "code",
   "execution_count": 3,
   "metadata": {},
   "outputs": [
    {
     "name": "stdout",
     "output_type": "stream",
     "text": [
      "WARNING:tensorflow:From d:\\git\\flood_exercise\\.venv\\Lib\\site-packages\\keras\\src\\losses.py:2976: The name tf.losses.sparse_softmax_cross_entropy is deprecated. Please use tf.compat.v1.losses.sparse_softmax_cross_entropy instead.\n",
      "\n"
     ]
    }
   ],
   "source": [
    "#|export\n",
    "import tensorflow as tf\n",
    "import rasterio\n",
    "import numpy as np"
   ]
  },
  {
   "cell_type": "markdown",
   "metadata": {},
   "source": [
    "In this step you need to convert the original dataset (with the splits) into a TFRecord format, which is documented here:\n",
    "https://www.tensorflow.org/tutorials/load_data/tfrecord \n",
    "\n",
    "Please create a python script that reads the original files and creates a single tf.data.Example record for each input image.\n",
    "\n",
    "The image bytes should be stored as a tf.train.BytesList feature, when the contents is an array of [H, W, C=13] uint16 bytes (use numpy’s tobytes) method, or as a tf.train.Int64List.\n",
    "\n",
    "The labels should be stored in a format similar to the image, as an array of [H,W,C]\n",
    "Optional: Add a colab to visualize the contents of the TFRecord file.\n"
   ]
  },
  {
   "cell_type": "code",
   "execution_count": 13,
   "metadata": {},
   "outputs": [],
   "source": [
    "dataset = tf.data.TFRecordDataset(\"D:\\git\\flood_exercise\\S2\\Bolivia_23014_S2Hand.tif\")\n",
    "\n",
    "featuresDict = {\n",
    "  'B1' : tf.io.FixedLenFeature(shape=[1], dtype=tf.float32),\n",
    "  'B2': tf.io.FixedLenFeature(shape=[1], dtype=tf.float32),\n",
    "  'B3': tf.io.FixedLenFeature(shape=[1], dtype=tf.float32),\n",
    "  'B4': tf.io.FixedLenFeature(shape=[1], dtype=tf.float32),\n",
    "  'B5': tf.io.FixedLenFeature(shape=[1], dtype=tf.float32),\n",
    "  'B6': tf.io.FixedLenFeature(shape=[1], dtype=tf.float32),\n",
    "  'B7': tf.io.FixedLenFeature(shape=[1], dtype=tf.float32),\n",
    "  'B8': tf.io.FixedLenFeature(shape=[1], dtype=tf.float32),\n",
    "  'B8A': tf.io.FixedLenFeature(shape=[1], dtype=tf.float32),\n",
    "  'B9': tf.io.FixedLenFeature(shape=[1], dtype=tf.float32),\n",
    "  'B10': tf.io.FixedLenFeature(shape=[1], dtype=tf.float32),\n",
    "  'B11': tf.io.FixedLenFeature(shape=[1], dtype=tf.float32),\n",
    "  'B12': tf.io.FixedLenFeature(shape=[1], dtype=tf.float32),\n",
    "}\n",
    "\n",
    "\n",
    "parsedDataset = dataset.map(lambda example: tf.io.parse_single_example(example, featuresDict))\n"
   ]
  },
  {
   "cell_type": "code",
   "execution_count": 14,
   "metadata": {},
   "outputs": [
    {
     "data": {
      "text/plain": [
       "<_MapDataset element_spec={'B1': TensorSpec(shape=(1,), dtype=tf.float32, name=None), 'B10': TensorSpec(shape=(1,), dtype=tf.float32, name=None), 'B11': TensorSpec(shape=(1,), dtype=tf.float32, name=None), 'B12': TensorSpec(shape=(1,), dtype=tf.float32, name=None), 'B2': TensorSpec(shape=(1,), dtype=tf.float32, name=None), 'B3': TensorSpec(shape=(1,), dtype=tf.float32, name=None), 'B4': TensorSpec(shape=(1,), dtype=tf.float32, name=None), 'B5': TensorSpec(shape=(1,), dtype=tf.float32, name=None), 'B6': TensorSpec(shape=(1,), dtype=tf.float32, name=None), 'B7': TensorSpec(shape=(1,), dtype=tf.float32, name=None), 'B8': TensorSpec(shape=(1,), dtype=tf.float32, name=None), 'B8A': TensorSpec(shape=(1,), dtype=tf.float32, name=None), 'B9': TensorSpec(shape=(1,), dtype=tf.float32, name=None)}>"
      ]
     },
     "execution_count": 14,
     "metadata": {},
     "output_type": "execute_result"
    }
   ],
   "source": [
    "parsedDataset"
   ]
  },
  {
   "cell_type": "code",
   "execution_count": null,
   "metadata": {},
   "outputs": [],
   "source": []
  }
 ],
 "metadata": {
  "kernelspec": {
   "display_name": ".venv",
   "language": "python",
   "name": "python3"
  },
  "language_info": {
   "codemirror_mode": {
    "name": "ipython",
    "version": 3
   },
   "file_extension": ".py",
   "mimetype": "text/x-python",
   "name": "python",
   "nbconvert_exporter": "python",
   "pygments_lexer": "ipython3",
   "version": "3.11.0"
  }
 },
 "nbformat": 4,
 "nbformat_minor": 2
}
