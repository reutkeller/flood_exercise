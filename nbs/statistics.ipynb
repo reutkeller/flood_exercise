{
 "cells": [
  {
   "cell_type": "code",
   "execution_count": 1,
   "metadata": {},
   "outputs": [],
   "source": [
    "#| default_exp imgs_stats"
   ]
  },
  {
   "cell_type": "markdown",
   "metadata": {},
   "source": [
    "# Statistics of images"
   ]
  },
  {
   "cell_type": "code",
   "execution_count": 2,
   "metadata": {},
   "outputs": [],
   "source": [
    "#|hide\n",
    "from nbdev.showdoc import *"
   ]
  },
  {
   "cell_type": "code",
   "execution_count": 1,
   "metadata": {},
   "outputs": [],
   "source": [
    "#|export\n",
    "\n",
    "import rasterio\n",
    "import numpy as numpy\n",
    "import pandas as pd\n",
    "import matplotlib.pyplot as plt \n",
    "from flood_exercise import utils_func\n",
    "from flood_exercise import const_vals as CONST"
   ]
  },
  {
   "cell_type": "code",
   "execution_count": 2,
   "metadata": {},
   "outputs": [],
   "source": [
    "#|export\n",
    "\n",
    "class ImgsStatistics():\n",
    "\n",
    "  def __init__(self,\n",
    "      path_to_imgs : str , # path to the folder that contains the images\n",
    "      ):\n",
    "      \n",
    "      # get the tiles paths\n",
    "      self.list_of_files = utils_func.load_tif_paths(path_to_imgs)\n",
    "\n",
    "      self.collect_results = {CONST.PATH_STR : [] , CONST.REGION_STR : []}\n",
    "\n",
    "      for path in self.list_of_files:\n",
    "         region = self._get_region_name_(path)\n",
    "         self.collect_results[CONST.PATH_STR] = path\n",
    "         self.collect_results[CONST.REGION_STR]=region\n",
    "\n",
    "\n",
    "  def _get_region_name_(self,\n",
    "                        tile_name : str , # path of image , assuming that the first word in the file name is the region name\n",
    "                        ):\n",
    "     \"\"\"\n",
    "     Takes a string of images from the type \"region_id_label.tif and extract the region name.\n",
    "     for example, for \"Bolivia_23014_S2Hand.tif\" it will return Bolivia\n",
    "     Parameters:\n",
    "     folder_path (str): The path to the folder containing TIFF files.\n",
    "\n",
    "     Returns:\n",
    "     string: Name of the region , extracted from the tile name \n",
    "     \"\"\"\n",
    "     \n",
    "     region = tile_name.split(CONST.SPLIT_TILES_NAMES_STR)[0]\n",
    "\n",
    "\n",
    "     return region\n",
    "  \n",
    "  def _img_statistics_(self,\n",
    "                       path : str , # path to image (tif file)\n",
    "                       ):\n",
    "     \n",
    "     \n",
    "     \n",
    "\n",
    "     \n",
    "\n",
    "\n",
    "    \n"
   ]
  },
  {
   "cell_type": "code",
   "execution_count": 3,
   "metadata": {},
   "outputs": [
    {
     "data": {
      "text/plain": [
       "{'path': 'D:\\\\git\\\\flood_exercise\\\\S2\\\\USA_58086_S2Hand.tif',\n",
       " 'region': 'D:\\\\git\\\\flood'}"
      ]
     },
     "execution_count": 3,
     "metadata": {},
     "output_type": "execute_result"
    }
   ],
   "source": [
    "instance = ImgsStatistics(\n",
    "  path_to_imgs = r'D:\\git\\flood_exercise\\S2')\n",
    "\n",
    "instance.collect_results"
   ]
  },
  {
   "cell_type": "code",
   "execution_count": null,
   "metadata": {},
   "outputs": [],
   "source": []
  }
 ],
 "metadata": {
  "kernelspec": {
   "display_name": ".venv",
   "language": "python",
   "name": "python3"
  },
  "language_info": {
   "codemirror_mode": {
    "name": "ipython",
    "version": 3
   },
   "file_extension": ".py",
   "mimetype": "text/x-python",
   "name": "python",
   "nbconvert_exporter": "python",
   "pygments_lexer": "ipython3",
   "version": "3.12.1"
  }
 },
 "nbformat": 4,
 "nbformat_minor": 2
}
