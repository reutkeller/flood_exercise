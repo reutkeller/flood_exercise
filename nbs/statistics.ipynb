{
 "cells": [
  {
   "cell_type": "code",
   "execution_count": null,
   "metadata": {},
   "outputs": [],
   "source": [
    "#| default_exp imgs_stats"
   ]
  },
  {
   "cell_type": "markdown",
   "metadata": {},
   "source": [
    "# Statistics of images"
   ]
  },
  {
   "cell_type": "code",
   "execution_count": null,
   "metadata": {},
   "outputs": [],
   "source": [
    "#|hide\n",
    "from nbdev.showdoc import *"
   ]
  },
  {
   "cell_type": "code",
   "execution_count": 1,
   "metadata": {},
   "outputs": [],
   "source": [
    "#|export\n",
    "\n",
    "import rasterio\n",
    "import numpy as np\n",
    "import pandas as pd\n",
    "import matplotlib.pyplot as plt \n",
    "from tqdm import tqdm\n",
    "from flood_exercise import utils_func\n",
    "from flood_exercise import const_vals as CONST"
   ]
  },
  {
   "cell_type": "code",
   "execution_count": 4,
   "metadata": {},
   "outputs": [],
   "source": [
    "#|export\n",
    "\n",
    "class ImgsStatistics():\n",
    "\n",
    "  def __init__(self,\n",
    "      path_to_imgs : str , # path to the folder that contains the images\n",
    "      ):\n",
    "      \n",
    "      # get the tiles paths\n",
    "      self.list_of_files = utils_func.load_tif_paths(path_to_imgs)\n",
    "\n",
    "      self.collect_results = {CONST.PATH_STR : [] , CONST.REGION_STR : []}\n",
    "\n",
    "      for path in tqdm(self.list_of_files):\n",
    "         region = self._get_region_name_(path)\n",
    "         self.collect_results[CONST.PATH_STR] = path\n",
    "         self.collect_results[CONST.REGION_STR]=region\n",
    "         \n",
    "         self.test = self._img_statistics_(path)\n",
    "\n",
    "\n",
    "  def _get_region_name_(self,\n",
    "                        tile_name : str , # path of image , assuming that the first word in the file name is the region name\n",
    "                        ):\n",
    "     \"\"\"\n",
    "     Takes a string of images from the type \"region_id_label.tif and extract the region name.\n",
    "     for example, for \"Bolivia_23014_S2Hand.tif\" it will return Bolivia\n",
    "     Parameters:\n",
    "     folder_path (str): The path to the folder containing TIFF files.\n",
    "\n",
    "     Returns:\n",
    "     string: Name of the region , extracted from the tile name \n",
    "     \"\"\"\n",
    "     \n",
    "     region = tile_name.split(CONST.SPLIT_TILES_NAMES_STR)[0]\n",
    "     return region\n",
    "  \n",
    "\n",
    "  \n",
    "  def _img_statistics_(self,\n",
    "                       path : str , # path to image (tif file)\n",
    "                       ):\n",
    "     \n",
    "     with rasterio.open(path) as src:\n",
    "      \n",
    "      src_arr = src.read()\n",
    "\n",
    "      #convert 0 to nan , assuming 0 is no value and we don't want it to interrupt the staitistics\n",
    "      src_arr  = np.where(src_arr==0, np.nan, src_arr )\n",
    "      band_names = list(src.descriptions)\n",
    "\n",
    "      collect_bands_stats = []\n",
    "\n",
    "      for band_name , index in zip(band_names,range(0,src.read().shape[0])):\n",
    "         self.bands_stats_imgs = {CONST.STR_BAND_NAME : [] , CONST.STR_MEAN : [] , CONST.STR_STD : [] }\n",
    "         arr = src_arr[index,:,:]\n",
    "\n",
    "         #calculate mean\n",
    "         mean = np.nanmean(arr)\n",
    "         \n",
    "         #calculate std\n",
    "         std = np.nanstd(arr)\n",
    "\n",
    "         dict_stats = { CONST.STR_BAND_NAME +'_' + CONST.STR_MEAN : mean , \n",
    "                       CONST.STR_BAND_NAME +'_' + CONST.STR_STD : std\n",
    "                        }\n",
    "         \n",
    "         collect_bands_stats.append(dict_stats)\n",
    "\n",
    "\n",
    "     return collect_bands_stats\n",
    "\n",
    "\n",
    "\n",
    "\n",
    "\n",
    "\n",
    "        \n",
    "        \n",
    "\n",
    "        \n",
    "\n",
    "     \n",
    "\n",
    "    \n"
   ]
  },
  {
   "cell_type": "code",
   "execution_count": 5,
   "metadata": {},
   "outputs": [
    {
     "name": "stderr",
     "output_type": "stream",
     "text": [
      " 11%|█         | 44/399 [00:03<00:25, 13.68it/s]"
     ]
    }
   ],
   "source": [
    "instance = ImgsStatistics(\n",
    "  path_to_imgs = r'D:\\git\\flood_exercise\\S2')\n",
    "\n",
    "instance.test"
   ]
  },
  {
   "cell_type": "code",
   "execution_count": null,
   "metadata": {},
   "outputs": [],
   "source": [
    "instance.list_of_files"
   ]
  },
  {
   "cell_type": "code",
   "execution_count": null,
   "metadata": {},
   "outputs": [],
   "source": [
    "dici =instance.test"
   ]
  },
  {
   "cell_type": "code",
   "execution_count": null,
   "metadata": {},
   "outputs": [],
   "source": [
    "dici"
   ]
  },
  {
   "cell_type": "code",
   "execution_count": null,
   "metadata": {},
   "outputs": [],
   "source": [
    "df1=pd.DataFrame(dici).T\n",
    "df1.columns = df1.iloc[0]\n",
    "df1 = df1.iloc[1:,:]\n",
    "df1"
   ]
  },
  {
   "cell_type": "code",
   "execution_count": null,
   "metadata": {},
   "outputs": [],
   "source": [
    "src=rasterio.open(r'D:\\git\\flood_exercise\\S2\\Bolivia_23014_S2Hand.tif')\n",
    "band_names=list(rasterio.open(r'D:\\git\\flood_exercise\\S2\\Bolivia_23014_S2Hand.tif').descriptions)\n",
    "\n",
    "src_arr = src.read()\n",
    "\n",
    "plt.imshow(src_arr[0,:,:])\n",
    "np.nanmean(src_arr[0,:,:])"
   ]
  },
  {
   "cell_type": "code",
   "execution_count": null,
   "metadata": {},
   "outputs": [],
   "source": [
    "src_arr[0,:,:]"
   ]
  },
  {
   "cell_type": "code",
   "execution_count": null,
   "metadata": {},
   "outputs": [],
   "source": [
    "np.mean(src_arr[0,:,:])"
   ]
  },
  {
   "cell_type": "code",
   "execution_count": null,
   "metadata": {},
   "outputs": [],
   "source": [
    "np.nanmean(src_arr[0,:,:])"
   ]
  },
  {
   "cell_type": "code",
   "execution_count": null,
   "metadata": {},
   "outputs": [],
   "source": [
    "src_arr = np.where(src_arr==0, np.nan, src_arr)\n",
    "src_arr"
   ]
  },
  {
   "cell_type": "code",
   "execution_count": null,
   "metadata": {},
   "outputs": [],
   "source": []
  },
  {
   "cell_type": "code",
   "execution_count": null,
   "metadata": {},
   "outputs": [],
   "source": [
    "for x , y in zip(band_names,range(0,src.read().shape[0])):\n",
    "  print(x,y)"
   ]
  },
  {
   "cell_type": "code",
   "execution_count": null,
   "metadata": {},
   "outputs": [],
   "source": []
  }
 ],
 "metadata": {
  "kernelspec": {
   "display_name": ".venv",
   "language": "python",
   "name": "python3"
  },
  "language_info": {
   "codemirror_mode": {
    "name": "ipython",
    "version": 3
   },
   "file_extension": ".py",
   "mimetype": "text/x-python",
   "name": "python",
   "nbconvert_exporter": "python",
   "pygments_lexer": "ipython3",
   "version": "3.12.1"
  }
 },
 "nbformat": 4,
 "nbformat_minor": 2
}
