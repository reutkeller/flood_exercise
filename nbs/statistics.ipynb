{
 "cells": [
  {
   "cell_type": "code",
   "execution_count": null,
   "metadata": {},
   "outputs": [],
   "source": [
    "#| default_exp imgs_stats"
   ]
  },
  {
   "cell_type": "markdown",
   "metadata": {},
   "source": [
    "# Statistics of images"
   ]
  },
  {
   "cell_type": "code",
   "execution_count": 1,
   "metadata": {},
   "outputs": [],
   "source": [
    "#|hide\n",
    "from nbdev.showdoc import *"
   ]
  },
  {
   "cell_type": "code",
   "execution_count": 2,
   "metadata": {},
   "outputs": [
    {
     "name": "stderr",
     "output_type": "stream",
     "text": [
      "C:\\Users\\USER\\AppData\\Local\\Temp\\ipykernel_12800\\399268847.py:5: DeprecationWarning: \n",
      "Pyarrow will become a required dependency of pandas in the next major release of pandas (pandas 3.0),\n",
      "(to allow more performant data types, such as the Arrow string type, and better interoperability with other libraries)\n",
      "but was not found to be installed on your system.\n",
      "If this would cause problems for you,\n",
      "please provide us feedback at https://github.com/pandas-dev/pandas/issues/54466\n",
      "        \n",
      "  import pandas as pd\n"
     ]
    }
   ],
   "source": [
    "#|export\n",
    "\n",
    "import rasterio\n",
    "import numpy as np\n",
    "import pandas as pd\n",
    "import matplotlib.pyplot as plt \n",
    "from tqdm import tqdm\n",
    "import itertools as it\n",
    "\n",
    "from flood_exercise import utils_func\n",
    "from flood_exercise import const_vals as CONST\n"
   ]
  },
  {
   "cell_type": "code",
   "execution_count": null,
   "metadata": {},
   "outputs": [],
   "source": [
    "#|export\n",
    "\n",
    "class ImgsStatistics():\n",
    "\n",
    "  def __init__(self,\n",
    "      path_to_imgs : str , # path to the folder that contains the images\n",
    "      path_to_split_file : str , # path to the folder that contains the split data\n",
    "      ):\n",
    "      \n",
    "      # get the path to the split files\n",
    "      self.path_to_split_file = utils_func.load_list_paths(path_to_split_file,filter_file=False)\n",
    "\n",
    "      # get the tiles paths\n",
    "      self.list_of_files = utils_func.load_list_paths(path_to_imgs,filter_file = True)\n",
    "      self.img_stats_df = self._iterate_tiles_()\n",
    "\n",
    "      #get the split data \n",
    "      self.split_dfs = self._get_split_data_()\n",
    "\n",
    "      # join between the split data and the images stats\n",
    "      self.results = self.img_stats_df.merge(self.split_dfs, on=CONST.JOIN_COL_NAME,\n",
    "                                        how = 'left').drop_duplicates(subset = CONST.PATH_STR)\n",
    "      self.results.drop(CONST.DF_ID_COL_NAME,axis=1,inplace=True)\n",
    "\n",
    "      self.count_regions = pd.DataFrame(self.results[CONST.REGION_STR].value_counts())\n",
    "      self.count_split = pd.DataFrame(self.results[CONST.SPLIT_COL_NAME].value_counts())\n",
    "\n",
    "\n",
    "  def _get_split_data_(self):\n",
    "\n",
    "      self.collect_dfs = []\n",
    "      for split_path in self.path_to_split_file:\n",
    "         # get the split name\n",
    "         split_type_str = split_path.split(CONST.SPLIT_TILES_NAMES_STR1)[-1].split(CONST.SPLIT_TILES_NAMES_STR2)[1]\n",
    "\n",
    "         # open the csv file and add column with the split group\n",
    "         df = pd.read_csv(split_path,header=None)\n",
    "         # to be caution - take the two columns and make one column with all the files names\n",
    "         df =pd.DataFrame(sorted(it.chain(*df.values)))\n",
    "\n",
    "         df.columns = [CONST.DF_ID_COL_NAME]\n",
    "\n",
    "         df[CONST.SPLIT_COL_NAME] = split_type_str\n",
    "         self.collect_dfs.append(df)\n",
    "\n",
    "         split_dfs = pd.concat(self.collect_dfs)\n",
    "\n",
    "         split_dfs[CONST.JOIN_COL_NAME]= split_dfs[CONST.DF_ID_COL_NAME].str.split(CONST.SPLIT_TILES_NAMES_STR2).str[:2].str.join(CONST.SPLIT_TILES_NAMES_STR2)\n",
    "\n",
    "\n",
    "      return split_dfs\n",
    "\n",
    "\n",
    "  def _get_region_name_(self,\n",
    "                        tile_name : str , # path of image , assuming that the first word in the file name is the region name\n",
    "                        ):\n",
    "     \"\"\"\n",
    "     Takes a string of images from the type \"region_id_label.tif and extract the region name.\n",
    "     for example, for \"Bolivia_23014_S2Hand.tif\" it will return Bolivia\n",
    "     Parameters:\n",
    "     folder_path (str): The path to the folder containing TIFF files.\n",
    "\n",
    "     Returns:\n",
    "     string: Name of the region , extracted from the tile name \n",
    "     \"\"\"\n",
    "     region = tile_name.split(CONST.SPLIT_TILES_NAMES_STR1)[-1].split(CONST.SPLIT_TILES_NAMES_STR2)[0]\n",
    "     return region\n",
    "  \n",
    "  def _img_statistics_(self,\n",
    "                       path : str , # path to image (tif file)\n",
    "                       ):\n",
    "     \n",
    "     with rasterio.open(path) as src:\n",
    "      \n",
    "      src_arr = src.read()\n",
    "\n",
    "      #convert 0 to nan , assuming 0 is no value and we don't want it to interrupt the staitistics\n",
    "      src_arr  = np.where(src_arr==0, np.nan, src_arr )\n",
    "      band_names = list(src.descriptions)\n",
    "\n",
    "      collect_bands_stats = {}\n",
    "\n",
    "      for band_name , index in zip(band_names,range(0,src.read().shape[0])):\n",
    "         self.bands_stats_imgs = {CONST.STR_BAND_NAME : [] , CONST.STR_MEAN : [] , CONST.STR_STD : [] }\n",
    "         arr = src_arr[index,:,:]\n",
    "\n",
    "         #calculate mean\n",
    "         mean = np.nanmean(arr)\n",
    "         \n",
    "         #calculate std\n",
    "         std = np.nanstd(arr)\n",
    "\n",
    "         collect_bands_stats[band_name +'_' + CONST.STR_MEAN] = mean\n",
    "         collect_bands_stats[band_name +'_' + CONST.STR_STD] = std\n",
    "         \n",
    "   \n",
    "     df_img_stats = pd.DataFrame.from_dict([collect_bands_stats])\n",
    "\n",
    "     return df_img_stats\n",
    "\n",
    "\n",
    "  def _iterate_tiles_(self):\n",
    "   \n",
    "   self.collect_info = {CONST.PATH_STR : [] , CONST.REGION_STR : []}\n",
    "   self.collect_stats = []\n",
    "\n",
    "   for path in tqdm(self.list_of_files):\n",
    "      #get the region name using the get_region_name function\n",
    "      region = self._get_region_name_(path)\n",
    "      \n",
    "      #collect the regn name and the path for the final table\n",
    "      self.collect_info[CONST.PATH_STR].append(path)\n",
    "      self.collect_info[CONST.REGION_STR].append(region)\n",
    "         \n",
    "      #get the image statistics\n",
    "      df_img_stats = self._img_statistics_(path)\n",
    "      self.collect_stats.append(df_img_stats)\n",
    "\n",
    "   #organize datasets\n",
    "   #organize the region info\n",
    "   df1 = pd.DataFrame(self.collect_info)\n",
    "   #ordanize the stats\n",
    "   df2 = pd.concat(self.collect_stats)\n",
    "   df2.reset_index(inplace=True)\n",
    "   #cocatenate\n",
    "   results = pd.concat([df1,df2],axis=1)\n",
    "   \n",
    "   #add names column so we can join between the split type and the image name \n",
    "   results[CONST.JOIN_COL_NAME] = results[CONST.PATH_STR].str.split(CONST.SPLIT_TILES_NAMES_STR1).str[-1].str.split(CONST.SPLIT_TILES_NAMES_STR2).str[:2].str.join(CONST.SPLIT_TILES_NAMES_STR2)\n",
    "\n",
    "   return results\n",
    "\n"
   ]
  },
  {
   "cell_type": "code",
   "execution_count": null,
   "metadata": {},
   "outputs": [],
   "source": [
    "instance = ImgsStatistics(\n",
    "  path_to_imgs = r'D:\\git\\flood_exercise\\S2',\n",
    "  path_to_split_file= r'D:\\git\\flood_exercise\\split\\flood_handlabeled' )\n",
    "\n",
    "instance.results"
   ]
  },
  {
   "cell_type": "code",
   "execution_count": null,
   "metadata": {},
   "outputs": [],
   "source": [
    "instance.count_regions"
   ]
  },
  {
   "cell_type": "code",
   "execution_count": null,
   "metadata": {},
   "outputs": [],
   "source": [
    "instance.count_split"
   ]
  },
  {
   "cell_type": "code",
   "execution_count": null,
   "metadata": {},
   "outputs": [],
   "source": [
    "# instance.results.to_csv(r'D:\\git\\flood_exercise\\RESULTS\\imgs_stats.csv')\n",
    "# instance.count_split.to_csv(r'D:\\git\\flood_exercise\\RESULTS\\count_split.csv')\n",
    "# instance.count_regions.to_csv(r'D:\\git\\flood_exercise\\RESULTS\\count_regions.csv')"
   ]
  },
  {
   "cell_type": "code",
   "execution_count": null,
   "metadata": {},
   "outputs": [],
   "source": []
  }
 ],
 "metadata": {
  "kernelspec": {
   "display_name": ".venv",
   "language": "python",
   "name": "python3"
  },
  "language_info": {
   "codemirror_mode": {
    "name": "ipython",
    "version": 3
   },
   "file_extension": ".py",
   "mimetype": "text/x-python",
   "name": "python",
   "nbconvert_exporter": "python",
   "pygments_lexer": "ipython3",
   "version": "3.12.2"
  }
 },
 "nbformat": 4,
 "nbformat_minor": 2
}
