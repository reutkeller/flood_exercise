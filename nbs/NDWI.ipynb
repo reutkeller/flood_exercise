{
 "cells": [
  {
   "cell_type": "code",
   "execution_count": 1,
   "metadata": {},
   "outputs": [],
   "source": [
    "#| default_exp ndwi_class"
   ]
  },
  {
   "cell_type": "markdown",
   "metadata": {},
   "source": [
    "# NDWI "
   ]
  },
  {
   "cell_type": "code",
   "execution_count": 2,
   "metadata": {},
   "outputs": [],
   "source": [
    "#|hide\n",
    "from nbdev.showdoc import *"
   ]
  },
  {
   "cell_type": "code",
   "execution_count": 3,
   "metadata": {},
   "outputs": [],
   "source": [
    "#|export\n",
    "import rasterio\n",
    "import numpy as np\n",
    "import pandas as pd\n",
    "import matplotlib.pyplot as plt \n",
    "\n",
    "from flood_exercise import utils_func\n",
    "from flood_exercise import const_vals as CONST"
   ]
  },
  {
   "cell_type": "code",
   "execution_count": 4,
   "metadata": {},
   "outputs": [],
   "source": [
    "#|export\n",
    "\n",
    "class ndwi():\n",
    "\n",
    "  def __init__(self,\n",
    "               path_to_s2_tiles : str , #path to the folder that contains the S2 images\n",
    "               path_to_labeled_tiles : str , #path to the labled images (values -1,0,1)\n",
    "               ):\n",
    "    # get the list of tiles from each folder , get only files end with .tif\n",
    "    self.tiles_s2 = utils_func.load_list_paths(path_to_s2_tiles, filter_file = True)\n",
    "    self.labels = utils_func.load_list_paths(path_to_labeled_tiles , filter_file = True)\n",
    "\n",
    "\n",
    "    # get only tiles from specific region (Bolivia for the task) \n",
    "    self.tiles_s2_for_evaluation = [x for x in self.tiles_s2 if CONST.REGION_STR_2 in x]\n",
    "\n",
    "    #calculate threshold\n",
    "    self.threshold = self._get_ndwi_threshold_()\n",
    "\n",
    "    # iterate through sentinel-2 images , get % of water in label image and S2 image\n",
    "    collector = {CONST.WATER_DF_TILE_ID_STR : [],\n",
    "                 CONST.WATER_DF_WATER_PERC_STR : [],\n",
    "                 CONST.WATER_DF_WATER_PERC_LABEL_STR : [],\n",
    "                 CONST.WATER_DF_PATH_STR : []}\n",
    "    for s2_path in self.tiles_s2:\n",
    "        #find the matching label tile \n",
    "        path_id = s2_path.split(CONST.SPLIT_TILES_NAMES_STR1)[-1].split(CONST.SPLIT_TILES_NAMES_STR2)[1]\n",
    "        match_label_tile_path = [x for x in self.labels if path_id in x][0]\n",
    "\n",
    "        #calculate NDWI for S2 image \n",
    "        masked_ndwi,perc_water=self._water_prob_new_img_(path = s2_path)\n",
    "\n",
    "        #calculate water percentage in label image\n",
    "        label_water_perc = self._water_perc_label_img_(path = match_label_tile_path)\n",
    "\n",
    "\n",
    "\n",
    "  def _ndwi_s2_(self ,\n",
    "                     path):\n",
    "         \n",
    "         with rasterio.open(path) as src:\n",
    "            green = src.read(CONST.GREEN_BAND)\n",
    "            nir = src.read(CONST.NIR_BAND)\n",
    "\n",
    "            ndwi = (green - nir) / (green + nir)\n",
    "\n",
    "         return ndwi \n",
    "  \n",
    "\n",
    "\n",
    "  def _get_ndwi_threshold_(self,\n",
    "                           ):\n",
    "    \n",
    "       threshold = [None , None]\n",
    "\n",
    "       #for each image , calculate NDWI ,get the match labled image\n",
    "       for s2_path in self.tiles_s2_for_evaluation:\n",
    "          \n",
    "          #calculate NDWI, get the image id to match with the labels\n",
    "          path_id = s2_path.split(CONST.SPLIT_TILES_NAMES_STR1)[-1].split(CONST.SPLIT_TILES_NAMES_STR2)[1]\n",
    "          ndwi_img  = self._ndwi_s2_(s2_path)\n",
    "\n",
    "          # match labeled image\n",
    "          match_label_tile_path = [x for x in self.labels if path_id in x][0]\n",
    "          match_label_tile = rasterio.open(match_label_tile_path).read(1)  \n",
    "\n",
    "          #create water mask : change -1 to 0 \n",
    "          water_mask = np.where(match_label_tile == -1, 0, match_label_tile)\n",
    "          ndwi_img = np.where(ndwi_img == -1, np.NaN , ndwi_img)\n",
    "\n",
    "          #multiply water_mask with NDWI :\n",
    "          mask_ndwi = ndwi_img * water_mask\n",
    "\n",
    "          # plt.imshow(mask_ndwi)\n",
    "          # plt.title(path_id)\n",
    "          # plt.show()\n",
    "          \n",
    "          #caluclate the min and max \n",
    "          min_val = np.nanmin(mask_ndwi)\n",
    "          max_val = np.nanmax(mask_ndwi)\n",
    "\n",
    "\n",
    "          if threshold[0] is None or min_val < threshold[0]:\n",
    "              threshold[0] = min_val\n",
    "          if threshold[1] is None or max_val > threshold[1]:\n",
    "              threshold[1] = max_val\n",
    "\n",
    "          # print(f' current threshold : {threshold} , path: {path_id}')\n",
    "\n",
    "\n",
    "       return threshold\n",
    "\n",
    "\n",
    "\n",
    "  def _water_prob_new_img_(self,\n",
    "                           path : str , # path to raster image\n",
    "                           ):\n",
    "\n",
    "        #calcualte NDWI\n",
    "        ndwi = self._ndwi_s2_(path)\n",
    "\n",
    "        # mask the image to get only water pixels based on threshold\n",
    "        mask_with_threshold_condition = (ndwi > self.threshold[0]) & (ndwi < 0)\n",
    "\n",
    "        # masked_ndwi = np.where(mask_with_threshold_condition, 0 , 1)\n",
    "        masked_ndwi = np.where(mask_with_threshold_condition, 0 , ndwi)\n",
    "        masked_ndwi = np.nan_to_num(masked_ndwi, nan=0)\n",
    "        masked_ndwi = np.where(masked_ndwi==0, 0 , 1)\n",
    "        \n",
    "        # plt.imshow(masked_ndwi)\n",
    "        # plt.title(s2_path)\n",
    "        # plt.colorbar()\n",
    "        # plt.show()\n",
    "\n",
    "        #calculate precentage of water pixel out of all the pixels in the image\n",
    "        # perc_water = round((np.sum(masked_ndwi) / (masked_ndwi.shape[0]*masked_ndwi.shape[1]))*100,2)\n",
    "        perc_water = round(( np.count_nonzero(masked_ndwi == CONST.WATER_VALUE) / (masked_ndwi.shape[0]*masked_ndwi.shape[1]))*100,2)\n",
    "\n",
    "        \n",
    "        return masked_ndwi,perc_water\n",
    "  \n",
    "\n",
    "  def _water_perc_label_img_(self,\n",
    "                             path : str , # path to labeled image\n",
    "                             ):\n",
    "      \n",
    "      with rasterio.open(path) as src:\n",
    "          #read the image as numpy array\n",
    "          arr = src.read()\n",
    "          # printpercentage of pixels with water flag (value=1)\n",
    "          perc_water = round(( np.count_nonzero(arr == CONST.WATER_VALUE) / (arr.shape[0]*arr.shape[1]))*100,2)\n",
    "\n",
    "      return perc_water\n",
    "\n",
    "     \n"
   ]
  },
  {
   "cell_type": "code",
   "execution_count": 5,
   "metadata": {},
   "outputs": [
    {
     "name": "stderr",
     "output_type": "stream",
     "text": [
      "C:\\Users\\USER\\AppData\\Local\\Temp\\ipykernel_18388\\2130820773.py:31: RuntimeWarning: invalid value encountered in divide\n",
      "  ndwi = (green - nir) / (green + nir)\n"
     ]
    },
    {
     "ename": "AttributeError",
     "evalue": "'ndwi' object has no attribute '_water_prob_new_imgs_'",
     "output_type": "error",
     "traceback": [
      "\u001b[1;31m---------------------------------------------------------------------------\u001b[0m",
      "\u001b[1;31mAttributeError\u001b[0m                            Traceback (most recent call last)",
      "Cell \u001b[1;32mIn[5], line 1\u001b[0m\n\u001b[1;32m----> 1\u001b[0m instance \u001b[38;5;241m=\u001b[39m \u001b[43mndwi\u001b[49m\u001b[43m(\u001b[49m\u001b[43mpath_to_s2_tiles\u001b[49m\u001b[43m \u001b[49m\u001b[38;5;241;43m=\u001b[39;49m\u001b[43m \u001b[49m\u001b[38;5;124;43mr\u001b[39;49m\u001b[38;5;124;43m\"\u001b[39;49m\u001b[38;5;124;43mD:\u001b[39;49m\u001b[38;5;124;43m\\\u001b[39;49m\u001b[38;5;124;43mgit\u001b[39;49m\u001b[38;5;124;43m\\\u001b[39;49m\u001b[38;5;124;43mflood_exercise\u001b[39;49m\u001b[38;5;124;43m\\\u001b[39;49m\u001b[38;5;124;43mS2\u001b[39;49m\u001b[38;5;124;43m\"\u001b[39;49m\u001b[43m,\u001b[49m\n\u001b[0;32m      2\u001b[0m \u001b[43m                \u001b[49m\u001b[43mpath_to_labeled_tiles\u001b[49m\u001b[38;5;241;43m=\u001b[39;49m\u001b[43m \u001b[49m\u001b[38;5;124;43mr\u001b[39;49m\u001b[38;5;124;43m\"\u001b[39;49m\u001b[38;5;124;43mD:\u001b[39;49m\u001b[38;5;124;43m\\\u001b[39;49m\u001b[38;5;124;43mgit\u001b[39;49m\u001b[38;5;124;43m\\\u001b[39;49m\u001b[38;5;124;43mflood_exercise\u001b[39;49m\u001b[38;5;124;43m\\\u001b[39;49m\u001b[38;5;124;43mS2_HANDLABELED\u001b[39;49m\u001b[38;5;124;43m\"\u001b[39;49m\u001b[43m)\u001b[49m\n\u001b[0;32m      3\u001b[0m instance\u001b[38;5;241m.\u001b[39mthreshold\n\u001b[0;32m      4\u001b[0m \u001b[38;5;66;03m# instance.water_perc.to_csv(r'D:\\git\\flood_exercise\\RESULTS\\water_perc_Bolivia.csv')\u001b[39;00m\n",
      "Cell \u001b[1;32mIn[4], line 21\u001b[0m, in \u001b[0;36mndwi.__init__\u001b[1;34m(self, path_to_s2_tiles, path_to_labeled_tiles)\u001b[0m\n\u001b[0;32m     18\u001b[0m \u001b[38;5;28mself\u001b[39m\u001b[38;5;241m.\u001b[39mthreshold \u001b[38;5;241m=\u001b[39m \u001b[38;5;28mself\u001b[39m\u001b[38;5;241m.\u001b[39m_get_ndwi_threshold_()\n\u001b[0;32m     20\u001b[0m \u001b[38;5;66;03m#calculate ndwi and mask with new threshold\u001b[39;00m\n\u001b[1;32m---> 21\u001b[0m \u001b[38;5;28mself\u001b[39m\u001b[38;5;241m.\u001b[39mtest\u001b[38;5;241m=\u001b[39m\u001b[38;5;28;43mself\u001b[39;49m\u001b[38;5;241;43m.\u001b[39;49m\u001b[43m_water_prob_new_imgs_\u001b[49m()\n",
      "\u001b[1;31mAttributeError\u001b[0m: 'ndwi' object has no attribute '_water_prob_new_imgs_'"
     ]
    }
   ],
   "source": [
    "instance = ndwi(path_to_s2_tiles = r\"D:\\git\\flood_exercise\\S2\",\n",
    "                path_to_labeled_tiles= r\"D:\\git\\flood_exercise\\S2_HANDLABELED\")\n",
    "instance.threshold\n",
    "# instance.water_perc.to_csv(r'D:\\git\\flood_exercise\\RESULTS\\water_perc_Bolivia.csv')"
   ]
  },
  {
   "cell_type": "code",
   "execution_count": null,
   "metadata": {},
   "outputs": [],
   "source": [
    "src = rasterio.open(r'D:\\git\\flood_exercise\\S2_HANDLABELED\\Bolivia_23014_LabelHand.tif')\n",
    "arr = src.read()\n",
    "np.count_nonzero(arr == -1)"
   ]
  },
  {
   "cell_type": "code",
   "execution_count": null,
   "metadata": {},
   "outputs": [],
   "source": [
    "np.count_nonzero(arr == -1)+np.count_nonzero(arr == 0)+np.count_nonzero(arr == 1)"
   ]
  },
  {
   "cell_type": "code",
   "execution_count": null,
   "metadata": {},
   "outputs": [],
   "source": [
    "arr.shape[2]*arr.shape[1]"
   ]
  },
  {
   "cell_type": "code",
   "execution_count": null,
   "metadata": {},
   "outputs": [],
   "source": [
    "instance.test[:100,:100]"
   ]
  },
  {
   "cell_type": "code",
   "execution_count": null,
   "metadata": {},
   "outputs": [],
   "source": []
  },
  {
   "cell_type": "code",
   "execution_count": null,
   "metadata": {},
   "outputs": [],
   "source": [
    "instance.labels[0].split(\"\\\\\")[-1].split('_')[1]"
   ]
  },
  {
   "cell_type": "code",
   "execution_count": null,
   "metadata": {},
   "outputs": [],
   "source": [
    "#|export\n",
    "\n",
    "class ndwi():\n",
    "\n",
    "  def __init__(self,\n",
    "      path_to_imgs : str , # path to the folder that contains the images\n",
    "      ):\n",
    "     \n",
    "     # get list of tif files\n",
    "     self.list_of_files = utils_func.load_list_paths(path_to_imgs,filter_file = True)\n",
    "     self.list_of_files = [x for x in self.list_of_files if 'Bolivia' in x]\n",
    "     \n",
    "     collector = {CONST.IMG_PATH_WATER_STR : [] , CONST.WATER_PERC_STR : []}\n",
    "     # calculate NDWI and NDWI mask per image\n",
    "     for path in self.list_of_files:\n",
    "         self.ndwi_img ,self.mask , self.perc_water = self._ndwi_s2_(path)\n",
    "         collector[CONST.IMG_PATH_WATER_STR].append(path)\n",
    "         collector[CONST.WATER_PERC_STR].append(self.perc_water)\n",
    "\n",
    "     self.water_perc = pd.DataFrame(collector)\n",
    "           \n",
    "  def _ndwi_s2_(self ,\n",
    "                     path):\n",
    "         \n",
    "         with rasterio.open(path) as src:\n",
    "            green = src.read(CONST.GREEN_BAND)\n",
    "            nir = src.read(CONST.NIR_BAND)\n",
    "\n",
    "            ndwi = (green - nir) / (green + nir)\n",
    "\n",
    "            # Replace NaN values with 0\n",
    "            ndwi = np.nan_to_num(ndwi, nan=-1)\n",
    "            # generate mask \n",
    "            mask = np.where(ndwi<0 ,0 ,1)\n",
    "\n",
    "            #calculate precentage of water pixel out of all the pixels in the image\n",
    "            # count_water_pixels = np.sum(mask)\n",
    "            # total_pixels = mask.shape[0]*mask.shape[1]\n",
    "            perc_water = round((np.sum(mask) / (mask.shape[0]*mask.shape[1]))*100,2)\n",
    "         return ndwi , mask ,perc_water\n",
    "     \n",
    "\n",
    "\n"
   ]
  },
  {
   "cell_type": "code",
   "execution_count": null,
   "metadata": {},
   "outputs": [],
   "source": [
    "instance = ndwi(path_to_imgs = r\"D:\\git\\flood_exercise\\S2\")\n",
    "instance.water_perc.to_csv(r'D:\\git\\flood_exercise\\RESULTS\\water_perc_Bolivia.csv')"
   ]
  },
  {
   "cell_type": "code",
   "execution_count": null,
   "metadata": {},
   "outputs": [],
   "source": []
  }
 ],
 "metadata": {
  "kernelspec": {
   "display_name": ".venv",
   "language": "python",
   "name": "python3"
  },
  "language_info": {
   "codemirror_mode": {
    "name": "ipython",
    "version": 3
   },
   "file_extension": ".py",
   "mimetype": "text/x-python",
   "name": "python",
   "nbconvert_exporter": "python",
   "pygments_lexer": "ipython3",
   "version": "3.12.2"
  }
 },
 "nbformat": 4,
 "nbformat_minor": 2
}
